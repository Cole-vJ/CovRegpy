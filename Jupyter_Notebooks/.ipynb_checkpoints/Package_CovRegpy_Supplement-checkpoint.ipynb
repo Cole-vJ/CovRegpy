{
 "cells": [
  {
   "cell_type": "markdown",
   "id": "2f85e2c8-8c28-4eec-9897-887708d49091",
   "metadata": {},
   "source": [
    "# Supplement to: Package **CovRegpy**: Regularised Covariance Regression and Forecasting in **Python**"
   ]
  },
  {
   "cell_type": "markdown",
   "id": "bc506d7e-0632-49bb-b4e1-3598717594d8",
   "metadata": {},
   "source": [
    "## Cole van Jaarsveldt, Gareth W. Peters, Matthew Ames, and Mike Chantler"
   ]
  },
  {
   "cell_type": "code",
   "execution_count": null,
   "id": "38fd9d09-3da5-4d76-bdaa-61d65c6fc6ef",
   "metadata": {},
   "outputs": [],
   "source": []
  },
  {
   "cell_type": "markdown",
   "id": "d04c7e19-68b2-4160-b292-19e568d216bf",
   "metadata": {},
   "source": [
    "## Abstract"
   ]
  },
  {
   "cell_type": "code",
   "execution_count": null,
   "id": "4a6b9cbf-f371-498e-8ff9-e73c111091e0",
   "metadata": {},
   "outputs": [],
   "source": []
  }
 ],
 "metadata": {
  "kernelspec": {
   "display_name": "Python 3 (ipykernel)",
   "language": "python",
   "name": "python3"
  },
  "language_info": {
   "codemirror_mode": {
    "name": "ipython",
    "version": 3
   },
   "file_extension": ".py",
   "mimetype": "text/x-python",
   "name": "python",
   "nbconvert_exporter": "python",
   "pygments_lexer": "ipython3",
   "version": "3.11.5"
  }
 },
 "nbformat": 4,
 "nbformat_minor": 5
}
