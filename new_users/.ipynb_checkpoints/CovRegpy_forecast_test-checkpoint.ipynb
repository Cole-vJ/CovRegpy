{
 "cells": [
  {
   "cell_type": "markdown",
   "metadata": {},
   "source": [
    "# Import Packages"
   ]
  },
  {
   "cell_type": "code",
   "execution_count": 1,
   "metadata": {},
   "outputs": [],
   "source": [
    "import numpy as np\n",
    "import seaborn as sns\n",
    "import matplotlib.pyplot as plt\n",
    "from sklearn.gaussian_process.kernels import ExpSineSquared, WhiteKernel, RBF, RationalQuadratic"
   ]
  },
  {
   "cell_type": "code",
   "execution_count": 2,
   "metadata": {},
   "outputs": [],
   "source": [
    "import sys\n",
    "sys.path.append(\"..\")\n",
    "from CovRegpy_forecasting import gp_forecast"
   ]
  },
  {
   "cell_type": "code",
   "execution_count": 3,
   "metadata": {},
   "outputs": [],
   "source": [
    "plt.rcParams['figure.figsize'] = [15, 12]\n",
    "sns.set(style='darkgrid')\n",
    "np.random.seed(0)"
   ]
  },
  {
   "cell_type": "code",
   "execution_count": null,
   "metadata": {},
   "outputs": [],
   "source": []
  },
  {
   "cell_type": "code",
   "execution_count": null,
   "metadata": {},
   "outputs": [],
   "source": [
    "# weights calculated on and used on different data (one month ahead)\n",
    "for day in range(len(end_of_month_vector_cumsum[:-int(months + 1)])):\n",
    "    \n",
    "    # calculate annual covariance\n",
    "    annual_covariance = \\\n",
    "        np.cov(sector_11_indices_array[\n",
    "               end_of_month_vector_cumsum[int(day)]:end_of_month_vector_cumsum[int(day + months)], :].T)\n",
    "    # calculate annual returns\n",
    "    annual_returns = \\\n",
    "        np.sum(sector_11_indices_array[\n",
    "               end_of_month_vector_cumsum[int(day)]:end_of_month_vector_cumsum[int(day + months)], :], axis=0)\n",
    "    # 11 sector price sig\n",
    "    price_signal = \\\n",
    "        np.cumprod(np.exp(sector_11_indices_array[\n",
    "                          end_of_month_vector_cumsum[int(day)]:end_of_month_vector_cumsum[\n",
    "                              int(day + months)], :]), axis=0)\n",
    "\n",
    "    # calculate actual covariance and returns looking forward\n",
    "    monthly_covariance = \\\n",
    "        np.cov(sector_11_indices_array[\n",
    "               end_of_month_vector_cumsum[\n",
    "                   int(day + months)]:end_of_month_vector_cumsum[int(day + months + 1)], :].T)\n",
    "    # monthly returns are annualised\n",
    "    monthly_returns = \\\n",
    "        np.sum(sector_11_indices_array[\n",
    "               end_of_month_vector_cumsum[\n",
    "                   int(day + months)]:end_of_month_vector_cumsum[int(day + months + 1)], :], axis=0) / \\\n",
    "        ((end_of_month_vector_cumsum[int(day + months + 1)] - end_of_month_vector_cumsum[int(day + months)]) /\n",
    "         (end_of_month_vector_cumsum[int(day + months + 1)] - end_of_month_vector_cumsum[int(day + 1)]))"
   ]
  }
 ],
 "metadata": {
  "kernelspec": {
   "display_name": "Python 3",
   "language": "python",
   "name": "python3"
  },
  "language_info": {
   "codemirror_mode": {
    "name": "ipython",
    "version": 3
   },
   "file_extension": ".py",
   "mimetype": "text/x-python",
   "name": "python",
   "nbconvert_exporter": "python",
   "pygments_lexer": "ipython3",
   "version": "3.7.6"
  }
 },
 "nbformat": 4,
 "nbformat_minor": 4
}
